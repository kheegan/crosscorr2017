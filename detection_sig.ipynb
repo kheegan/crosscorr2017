{
 "cells": [
  {
   "cell_type": "markdown",
   "metadata": {},
   "source": [
    "# Estimating the Detection Significance of Galaxy-Forest Cross-Correlations\n",
    "\n",
    "Read in cross-correlatiuons, covariance matrices and null samples. Currently in operating on v4.1 measurements with covariances measured from 2400 mock data sets."
   ]
  },
  {
   "cell_type": "code",
   "execution_count": 1,
   "metadata": {},
   "outputs": [],
   "source": [
    "import numpy as np\n",
    "import copy\n",
    "import time as time\n",
    "import lyafxcorr_kg as xcorr\n",
    "import os.path\n",
    "\n",
    "from astropy.cosmology import FlatLambdaCDM\n",
    "from astropy.io import fits\n",
    "from astropy.io import ascii\n",
    "from astropy.table import Table\n",
    "from astropy import units as u\n",
    "\n",
    "# Set up matplotlib and use a nicer set of plot parameters\n",
    "%config InlineBackend.rc = {}\n",
    "import matplotlib as mpl\n",
    "mpl.rc('mathtext',fontset='stixsans')\n",
    "mpl.rc('figure', facecolor=\"white\")\n",
    "#matplotlib.rc_file(\"../../templates/matplotlibrc\")\n",
    "import matplotlib.pyplot as plt\n",
    "import matplotlib.colors as colors\n",
    "%matplotlib inline\n",
    "\n",
    "# Define cosmology\n",
    "cosmo = FlatLambdaCDM(H0=70, Om0=0.31)\n",
    "\n",
    "# Cross-correlation measurements\n",
    "XCorr_3d = np.load(\"xcorr_3dhst_globalf_v4.1.npy\")\n",
    "XCorr_zD = np.load(\"xcorr_zDeep_globalf_v4.1.npy\")\n",
    "XCorr_mosdef = np.load(\"xcorr_mosdef_globalf_v4.1.npy\")\n",
    "XCorr_vuds = np.load(\"xcorr_vuds_globalf_v4.1.npy\")\n",
    "XCorr_clamato = np.load(\"xcorr_clamato_globalf_v4.1.npy\")\n",
    "\n",
    "XNull_3d = np.load(\"xcorr_rand_3dhst_globalf_v4.1.npy\")\n",
    "XNull_zD = np.load(\"xcorr_rand_zDeep_globalf_v4.1.npy\")\n",
    "XNull_mosdef = np.load(\"xcorr_rand_mosdef_globalf_v4.1.npy\")\n",
    "XNull_vuds  = np.load(\"xcorr_rand_vuds_globalf_v4.1.npy\")\n",
    "XNull_clamato  = np.load(\"xcorr_rand_clamato_globalf_v4.1.npy\")\n",
    "\n",
    "# Load covariances\n",
    "Covar_3d = np.load(\"covar_rawmock2400_3dhst_v4.1.npy\")    \n",
    "Covar_zD = np.load(\"covar_rawmock2400_zDeep_v4.1.npy\")\n",
    "Covar_mosdef = np.load(\"covar_rawmock2400_mosdef_v4.1.npy\")\n",
    "Covar_vuds  = np.load(\"covar_rawmock2400_vuds_v4.1.npy\")\n",
    "Covar_clamato = np.load(\"covar_rawmock2400_clamato_v4.1.npy\")\n",
    "\n",
    "# Read in bin edges\n",
    "PiBin_fil = 'bins23_pi_0-30hMpc.txt'\n",
    "SigBin_fil = 'bins10_sigma_0-30hMpc.txt'\n",
    "\n",
    "PiBins0 = ascii.read(PiBin_fil)\n",
    "SigBins0 = ascii.read(SigBin_fil)\n",
    "\n",
    "PiEdges = PiBins0['pi_edges'].data\n",
    "SigEdges = SigBins0['sigma_edges'].data\n",
    "\n",
    "# Convert bin boundaries from Mpc/h to Mpc\n",
    "PiEdges  = PiEdges/(len(PiEdges)*[cosmo.h])\n",
    "SigEdges = SigEdges/(len(SigEdges)*[cosmo.h])\n"
   ]
  },
  {
   "cell_type": "markdown",
   "metadata": {},
   "source": [
    "Plot matrix diagonals"
   ]
  },
  {
   "cell_type": "code",
   "execution_count": 2,
   "metadata": {},
   "outputs": [
    {
     "data": {
      "image/png": "[encoded data removed]",
      "text/plain": [
       "<Figure size 1400x700 with 4 Axes>"
      ]
     },
     "metadata": {},
     "output_type": "display_data"
    }
   ],
   "source": [
    "# Plot diagonals of the covariance matrices\n",
    "DiagCov3d = Covar_3d.diagonal()\n",
    "DiagCovzD = np.diagonal(Covar_zD)\n",
    "DiagCovMOS = np.diagonal(Covar_mosdef)\n",
    "\n",
    "NbinX, NbinY = XCorr_3d.shape\n",
    "DiagCov3d = DiagCov3d.reshape([NbinX, NbinY])\n",
    "DiagCovzD = DiagCovzD.reshape([NbinX, NbinY])\n",
    "DiagCovMOS = DiagCovMOS.reshape([NbinX, NbinY])\n",
    "\n",
    "X, Y = np.meshgrid(SigEdges, PiEdges)\n",
    "\n",
    "SigMax = 35.\n",
    "PiMin = -50.\n",
    "PiMax = 50.\n",
    "\n",
    "fig, (ax1, ax2, ax3)= plt.subplots(1,3, figsize=(14,7))\n",
    "\n",
    "pcm=ax1.pcolormesh(X, Y, DiagCovMOS.transpose(),cmap='gray_r'\n",
    "                  ,norm=colors.LogNorm(vmin=1.e-3, vmax=0.2))\n",
    "ax1.set_aspect('equal')\n",
    "ax1.set_xlim(np.min(X), SigMax)\n",
    "ax1.set_ylim(PiMin, PiMax)\n",
    "ax1.set_xlabel(r'$\\sigma\\; (\\mathrm{cMpc})$')\n",
    "ax1.set_ylabel(r'$\\pi\\; (\\mathrm{cMpc})$')\n",
    "ax1.set_title(\"MOSDEF Covariance\")\n",
    "#fig.colorbar(pcm, ax=ax1)\n",
    "\n",
    "pcm=ax2.pcolormesh(X, Y, DiagCovzD.transpose(),cmap='gray_r'\n",
    "                   ,norm=colors.LogNorm(vmin=1.e-3, vmax=0.2))\n",
    "ax2.set_aspect('equal')\n",
    "ax2.set_xlim(np.min(X), SigMax)\n",
    "ax2.set_ylim(PiMin, PiMax)\n",
    "ax2.set_xlabel(r'$\\sigma\\; (\\mathrm{cMpc})$')\n",
    "ax2.set_ylabel(r'$\\pi\\; (\\mathrm{cMpc})$')\n",
    "ax2.set_title(\"zCOSMOS Covariance\")\n",
    "#fig.colorbar(pcm, ax=ax2)\n",
    "\n",
    "pcm=ax3.pcolormesh(X, Y, DiagCov3d.transpose(),cmap='gray_r'\n",
    "                   ,norm=colors.LogNorm(vmin=1.e-2, vmax=0.2))\n",
    "ax3.set_aspect('equal')\n",
    "ax3.set_xlim(np.min(X), SigMax)\n",
    "ax3.set_ylim(PiMin, PiMax)\n",
    "ax3.set_xlabel(r'$\\sigma\\; (\\mathrm{cMpc})$')\n",
    "ax3.set_ylabel(r'$\\pi\\; (\\mathrm{cMpc})$')\n",
    "ax3.set_title(\"3DHST Covariance\")\n",
    "\n",
    "fig.colorbar(pcm, ax=ax3)\n",
    "\n",
    "#fig.subplots_adjust(wspace=-0.1)\n",
    "\n",
    "plt.show()"
   ]
  },
  {
   "cell_type": "markdown",
   "metadata": {},
   "source": [
    "### Estimate MOSDEF Detection Significance"
   ]
  },
  {
   "cell_type": "code",
   "execution_count": 3,
   "metadata": {},
   "outputs": [
    {
     "name": "stdout",
     "output_type": "stream",
     "text": [
      "Condition number =  5780.12493922\n",
      "[ 1.  1.  1.  1.  1.  1.  1.  1.  1.  1.  1.  1.  1.  1.  1.  1.  1.  1.\n",
      "  1.  1.  1.  1.  1.  1.  1.  1.  1.  1.  1.  1.  1.  1.  1.  1.  1.  1.\n",
      "  1.  1.  1.  1.  1.  1.  1.  1.  1.  1.  1.  1.  1.  1.  1.  1.  1.  1.\n",
      "  1.  1.  1.  1.  1.  1.  1.  1.  1.  1.  1.  1.  1.  1.  1.  1.  1.  1.\n",
      "  1.  1.  1.  1.  1.  1.  1.  1.  1.  1.  1.  1.  1.  1.  1.  1.  1.  1.\n",
      "  1.  1.  1.  1.  1.  1.  1.  1.  1.  1.  1.  1.  1.  1.  1.  1.  1.  1.\n",
      "  1.  1.  1.  1.  1.  1.  1.  1.  1.  1.  1.  1.  1.  1.  1.  1.  1.  1.\n",
      "  1.  1.  1.  1.  1.  1.  1.  1.  1.  1.  1.  1.  1.  1.  1.  1.  1.  1.\n",
      "  1.  1.  1.  1.  1.  1.  1.  1.  1.  1.  1.  1.  1.  1.  1.  1.  1.  1.\n",
      "  1.  1.  1.  1.  1.  1.  1.  1.  1.  1.  1.  1.  1.  1.  1.  1.  1.  1.\n",
      "  1.  1.  1.  1.  1.  1.  1.  1.  1.  1.  1.  1.  1.  1.  1.  1.  1.  1.\n",
      "  1.  1.  1.  1.  1.  1.  1.  1.  1.]\n",
      "207.0\n",
      "1.0\n",
      "(207,)\n",
      "-ln(L) =  264.835640144\n",
      "Detection significance = 16.273772 sigma\n"
     ]
    }
   ],
   "source": [
    "Cov = Covar_mosdef\n",
    "\n",
    "#fig, ax= plt.subplots()\n",
    "\n",
    "#print(Cov.shape)\n",
    "#histdata= Cov.reshape(Cov.size)\n",
    "#binwidth=0.001\n",
    "#ax.hist(histdata, bins=np.arange(-0.02,0.02 + binwidth, binwidth))\n",
    "\n",
    "#plt.show()\n",
    "\n",
    "print(\"Condition number = \", np.linalg.cond(Cov))\n",
    "\n",
    "# Invert the covariance matrix, and see if it's a reasonable inversion\n",
    "InvCov = np.linalg.pinv(Cov)\n",
    "\n",
    "UniMat = np.dot(Cov,InvCov)\n",
    "\n",
    "print(UniMat.diagonal())\n",
    "\n",
    "#print(UniMat[10:15, 10:15])\n",
    "print(np.trace(UniMat))\n",
    "print(np.linalg.det(UniMat))\n",
    "\n",
    "# This is the vector of data - model (in this case the randoms)\n",
    "DeltaVec = XCorr_mosdef.reshape(XCorr_mosdef.size) - XNull_mosdef.reshape(XNull_mosdef.size)\n",
    "print(DeltaVec.shape)\n",
    "\n",
    "minusLogL = 0.5 * np.dot(DeltaVec.transpose(), np.dot(InvCov, DeltaVec))\n",
    "print(\"-ln(L) = \", 0.5 * np.dot(DeltaVec.transpose(), np.dot(InvCov, DeltaVec)))\n",
    "\n",
    "print(\"Detection significance = %f sigma\" % np.sqrt(minusLogL))\n",
    "signif_mosdef = np.sqrt(minusLogL)"
   ]
  },
  {
   "cell_type": "markdown",
   "metadata": {},
   "source": [
    "### Estimate CLAMATO Detection Significance"
   ]
  },
  {
   "cell_type": "code",
   "execution_count": 4,
   "metadata": {},
   "outputs": [
    {
     "name": "stdout",
     "output_type": "stream",
     "text": [
      "Condition number =  6331.98713378\n",
      "[ 1.  1.  1.  1.  1.  1.  1.  1.  1.  1.  1.  1.  1.  1.  1.  1.  1.  1.\n",
      "  1.  1.  1.  1.  1.  1.  1.  1.  1.  1.  1.  1.  1.  1.  1.  1.  1.  1.\n",
      "  1.  1.  1.  1.  1.  1.  1.  1.  1.  1.  1.  1.  1.  1.  1.  1.  1.  1.\n",
      "  1.  1.  1.  1.  1.  1.  1.  1.  1.  1.  1.  1.  1.  1.  1.  1.  1.  1.\n",
      "  1.  1.  1.  1.  1.  1.  1.  1.  1.  1.  1.  1.  1.  1.  1.  1.  1.  1.\n",
      "  1.  1.  1.  1.  1.  1.  1.  1.  1.  1.  1.  1.  1.  1.  1.  1.  1.  1.\n",
      "  1.  1.  1.  1.  1.  1.  1.  1.  1.  1.  1.  1.  1.  1.  1.  1.  1.  1.\n",
      "  1.  1.  1.  1.  1.  1.  1.  1.  1.  1.  1.  1.  1.  1.  1.  1.  1.  1.\n",
      "  1.  1.  1.  1.  1.  1.  1.  1.  1.  1.  1.  1.  1.  1.  1.  1.  1.  1.\n",
      "  1.  1.  1.  1.  1.  1.  1.  1.  1.  1.  1.  1.  1.  1.  1.  1.  1.  1.\n",
      "  1.  1.  1.  1.  1.  1.  1.  1.  1.  1.  1.  1.  1.  1.  1.  1.  1.  1.\n",
      "  1.  1.  1.  1.  1.  1.  1.  1.  1.]\n",
      "1.0\n",
      "(207,)\n",
      "-ln(L) =  448.066955344\n",
      "Detection significance = 21.167592 sigma\n"
     ]
    }
   ],
   "source": [
    "Cov = Covar_clamato\n",
    "\n",
    "print(\"Condition number = \", np.linalg.cond(Cov))\n",
    "\n",
    "# Invert the covariance matrix, and see if it's a reasonable inversion\n",
    "InvCov = np.linalg.pinv(Cov)\n",
    "\n",
    "UniMat = np.dot(Cov,InvCov)\n",
    "\n",
    "print(UniMat.diagonal())\n",
    "\n",
    "#print(UniMat[10:15, 10:15])\n",
    "#print(np.trace(UniMat))\n",
    "print(np.linalg.det(UniMat))\n",
    "\n",
    "# This is the vector of data - model (in this case the randoms)\n",
    "DeltaVec = XCorr_clamato.reshape(XCorr_clamato.size) - \\\n",
    "XNull_clamato.reshape(XNull_clamato.size)\n",
    "print(DeltaVec.shape)\n",
    "\n",
    "minusLogL = 0.5 * np.dot(DeltaVec.transpose(), np.dot(InvCov, DeltaVec))\n",
    "print(\"-ln(L) = \", 0.5 * np.dot(DeltaVec.transpose(), np.dot(InvCov, DeltaVec)))\n",
    "\n",
    "print(\"Detection significance = %f sigma\" % np.sqrt(minusLogL))\n",
    "signif_clamato = np.sqrt(minusLogL)"
   ]
  },
  {
   "cell_type": "markdown",
   "metadata": {},
   "source": [
    "### Estimate zCOSMOS-Deep Detection Significance"
   ]
  },
  {
   "cell_type": "code",
   "execution_count": 5,
   "metadata": {},
   "outputs": [
    {
     "name": "stdout",
     "output_type": "stream",
     "text": [
      "Condition number =  8053.71569765\n",
      "[ 1.  1.  1.  1.  1.  1.  1.  1.  1.  1.  1.  1.  1.  1.  1.  1.  1.  1.\n",
      "  1.  1.  1.  1.  1.  1.  1.  1.  1.  1.  1.  1.  1.  1.  1.  1.  1.  1.\n",
      "  1.  1.  1.  1.  1.  1.  1.  1.  1.  1.  1.  1.  1.  1.  1.  1.  1.  1.\n",
      "  1.  1.  1.  1.  1.  1.  1.  1.  1.  1.  1.  1.  1.  1.  1.  1.  1.  1.\n",
      "  1.  1.  1.  1.  1.  1.  1.  1.  1.  1.  1.  1.  1.  1.  1.  1.  1.  1.\n",
      "  1.  1.  1.  1.  1.  1.  1.  1.  1.  1.  1.  1.  1.  1.  1.  1.  1.  1.\n",
      "  1.  1.  1.  1.  1.  1.  1.  1.  1.  1.  1.  1.  1.  1.  1.  1.  1.  1.\n",
      "  1.  1.  1.  1.  1.  1.  1.  1.  1.  1.  1.  1.  1.  1.  1.  1.  1.  1.\n",
      "  1.  1.  1.  1.  1.  1.  1.  1.  1.  1.  1.  1.  1.  1.  1.  1.  1.  1.\n",
      "  1.  1.  1.  1.  1.  1.  1.  1.  1.  1.  1.  1.  1.  1.  1.  1.  1.  1.\n",
      "  1.  1.  1.  1.  1.  1.  1.  1.  1.  1.  1.  1.  1.  1.  1.  1.  1.  1.\n",
      "  1.  1.  1.  1.  1.  1.  1.  1.  1.]\n",
      "1.0\n",
      "(207,)\n",
      "-ln(L) =  220.497919502\n",
      "Detection significance = 14.849172 sigma\n"
     ]
    }
   ],
   "source": [
    "Cov = Covar_zD\n",
    "\n",
    "print(\"Condition number = \", np.linalg.cond(Cov))\n",
    "\n",
    "# Invert the covariance matrix, and see if it's a reasonable inversion\n",
    "InvCov = np.linalg.pinv(Cov)\n",
    "\n",
    "UniMat = np.dot(Cov,InvCov)\n",
    "\n",
    "print(UniMat.diagonal())\n",
    "\n",
    "#print(UniMat[10:15, 10:15])\n",
    "#print(np.trace(UniMat))\n",
    "print(np.linalg.det(UniMat))\n",
    "\n",
    "# This is the vector of data - model (in this case the randoms)\n",
    "DeltaVec = XCorr_zD.reshape(XCorr_zD.size) - XNull_zD.reshape(XNull_zD.size)\n",
    "print(DeltaVec.shape)\n",
    "\n",
    "minusLogL = 0.5 * np.dot(DeltaVec.transpose(), np.dot(InvCov, DeltaVec))\n",
    "print(\"-ln(L) = \", 0.5 * np.dot(DeltaVec.transpose(), np.dot(InvCov, DeltaVec)))\n",
    "\n",
    "print(\"Detection significance = %f sigma\" % np.sqrt(minusLogL))\n",
    "signif_zD = np.sqrt(minusLogL)"
   ]
  },
  {
   "cell_type": "markdown",
   "metadata": {},
   "source": [
    "### Estimate VUDS Detection Significance"
   ]
  },
  {
   "cell_type": "code",
   "execution_count": 6,
   "metadata": {},
   "outputs": [
    {
     "name": "stdout",
     "output_type": "stream",
     "text": [
      "Condition number =  6331.98713378\n",
      "[ 1.  1.  1.  1.  1.  1.  1.  1.  1.  1.  1.  1.  1.  1.  1.  1.  1.  1.\n",
      "  1.  1.  1.  1.  1.  1.  1.  1.  1.  1.  1.  1.  1.  1.  1.  1.  1.  1.\n",
      "  1.  1.  1.  1.  1.  1.  1.  1.  1.  1.  1.  1.  1.  1.  1.  1.  1.  1.\n",
      "  1.  1.  1.  1.  1.  1.  1.  1.  1.  1.  1.  1.  1.  1.  1.  1.  1.  1.\n",
      "  1.  1.  1.  1.  1.  1.  1.  1.  1.  1.  1.  1.  1.  1.  1.  1.  1.  1.\n",
      "  1.  1.  1.  1.  1.  1.  1.  1.  1.  1.  1.  1.  1.  1.  1.  1.  1.  1.\n",
      "  1.  1.  1.  1.  1.  1.  1.  1.  1.  1.  1.  1.  1.  1.  1.  1.  1.  1.\n",
      "  1.  1.  1.  1.  1.  1.  1.  1.  1.  1.  1.  1.  1.  1.  1.  1.  1.  1.\n",
      "  1.  1.  1.  1.  1.  1.  1.  1.  1.  1.  1.  1.  1.  1.  1.  1.  1.  1.\n",
      "  1.  1.  1.  1.  1.  1.  1.  1.  1.  1.  1.  1.  1.  1.  1.  1.  1.  1.\n",
      "  1.  1.  1.  1.  1.  1.  1.  1.  1.  1.  1.  1.  1.  1.  1.  1.  1.  1.\n",
      "  1.  1.  1.  1.  1.  1.  1.  1.  1.]\n",
      "1.0\n",
      "(207,)\n",
      "-ln(L) =  203.548583731\n",
      "Detection significance = 14.267045 sigma\n"
     ]
    }
   ],
   "source": [
    "Cov = Covar_vuds\n",
    "\n",
    "print(\"Condition number = \", np.linalg.cond(Cov))\n",
    "\n",
    "# Invert the covariance matrix, and see if it's a reasonable inversion\n",
    "InvCov = np.linalg.pinv(Cov)\n",
    "\n",
    "UniMat = np.dot(Cov,InvCov)\n",
    "\n",
    "print(UniMat.diagonal())\n",
    "\n",
    "#print(UniMat[10:15, 10:15])\n",
    "#print(np.trace(UniMat))\n",
    "print(np.linalg.det(UniMat))\n",
    "\n",
    "# This is the vector of data - model (in this case the randoms)\n",
    "DeltaVec = XCorr_vuds.reshape(XCorr_vuds.size) - XNull_vuds.reshape(XNull_vuds.size)\n",
    "print(DeltaVec.shape)\n",
    "\n",
    "minusLogL = 0.5 * np.dot(DeltaVec.transpose(), np.dot(InvCov, DeltaVec))\n",
    "print(\"-ln(L) = \", 0.5 * np.dot(DeltaVec.transpose(), np.dot(InvCov, DeltaVec)))\n",
    "\n",
    "print(\"Detection significance = %f sigma\" % np.sqrt(minusLogL))\n",
    "signif_vuds = np.sqrt(minusLogL)"
   ]
  },
  {
   "cell_type": "markdown",
   "metadata": {},
   "source": [
    "### Estimate 3D-HST Detection Significance"
   ]
  },
  {
   "cell_type": "code",
   "execution_count": 7,
   "metadata": {},
   "outputs": [
    {
     "name": "stdout",
     "output_type": "stream",
     "text": [
      "Condition number =  7408.22819255\n",
      "[ 1.  1.  1.  1.  1.  1.  1.  1.  1.  1.  1.  1.  1.  1.  1.  1.  1.  1.\n",
      "  1.  1.  1.  1.  1.  1.  1.  1.  1.  1.  1.  1.  1.  1.  1.  1.  1.  1.\n",
      "  1.  1.  1.  1.  1.  1.  1.  1.  1.  1.  1.  1.  1.  1.  1.  1.  1.  1.\n",
      "  1.  1.  1.  1.  1.  1.  1.  1.  1.  1.  1.  1.  1.  1.  1.  1.  1.  1.\n",
      "  1.  1.  1.  1.  1.  1.  1.  1.  1.  1.  1.  1.  1.  1.  1.  1.  1.  1.\n",
      "  1.  1.  1.  1.  1.  1.  1.  1.  1.  1.  1.  1.  1.  1.  1.  1.  1.  1.\n",
      "  1.  1.  1.  1.  1.  1.  1.  1.  1.  1.  1.  1.  1.  1.  1.  1.  1.  1.\n",
      "  1.  1.  1.  1.  1.  1.  1.  1.  1.  1.  1.  1.  1.  1.  1.  1.  1.  1.\n",
      "  1.  1.  1.  1.  1.  1.  1.  1.  1.  1.  1.  1.  1.  1.  1.  1.  1.  1.\n",
      "  1.  1.  1.  1.  1.  1.  1.  1.  1.  1.  1.  1.  1.  1.  1.  1.  1.  1.\n",
      "  1.  1.  1.  1.  1.  1.  1.  1.  1.  1.  1.  1.  1.  1.  1.  1.  1.  1.\n",
      "  1.  1.  1.  1.  1.  1.  1.  1.  1.]\n",
      "1.0\n",
      "(207,)\n",
      "-ln(L) =  224.910999474\n",
      "Detection significance = 14.997033 sigma\n"
     ]
    }
   ],
   "source": [
    "Cov = Covar_3d\n",
    "\n",
    "print(\"Condition number = \", np.linalg.cond(Cov))\n",
    "\n",
    "# Invert the covariance matrix, and see if it's a reasonable inversion\n",
    "InvCov = np.linalg.pinv(Cov)\n",
    "\n",
    "UniMat = np.dot(Cov,InvCov)\n",
    "\n",
    "print(UniMat.diagonal())\n",
    "\n",
    "#print(UniMat[10:15, 10:15])\n",
    "#print(np.trace(UniMat))\n",
    "print(np.linalg.det(UniMat))\n",
    "\n",
    "# This is the vector of data - model (in this case the randoms)\n",
    "DeltaVec = XCorr_3d.reshape(XCorr_3d.size) - XNull_3d.reshape(XNull_3d.size)\n",
    "print(DeltaVec.shape)\n",
    "\n",
    "minusLogL = 0.5 * np.dot(DeltaVec.transpose(), np.dot(InvCov, DeltaVec))\n",
    "print(\"-ln(L) = \", 0.5 * np.dot(DeltaVec.transpose(), np.dot(InvCov, DeltaVec)))\n",
    "\n",
    "print(\"Detection significance = %f sigma\" % np.sqrt(minusLogL))\n",
    "signif_3d = np.sqrt(minusLogL)"
   ]
  },
  {
   "cell_type": "code",
   "execution_count": 8,
   "metadata": {},
   "outputs": [
    {
     "name": "stdout",
     "output_type": "stream",
     "text": [
      "Overall Detection Significance=36.903389 sigma\n"
     ]
    }
   ],
   "source": [
    "print(\"Overall Detection Significance=%f sigma\" % \n",
    "      np.sqrt(signif_mosdef**2 + signif_zD**2 + signif_clamato**2 +\n",
    "              signif_vuds**2 + signif_3d**2))"
   ]
  },
  {
   "cell_type": "markdown",
   "metadata": {},
   "source": [
    "Just experimenting with matrix inversion here..."
   ]
  },
  {
   "cell_type": "code",
   "execution_count": 9,
   "metadata": {},
   "outputs": [
    {
     "name": "stdout",
     "output_type": "stream",
     "text": [
      "Condition number = 84.5687669799\n",
      "[[ 1.19728087  0.01679699 -1.09439232 -0.27910571 -0.67372325 -0.94251063\n",
      "   1.12625764  1.89457221 -1.6152375   1.02890673]\n",
      " [-0.35318808  1.64855287 -2.72226511  1.25425267  0.07588045 -0.16998136\n",
      "   0.84419507  1.38112275 -2.78469142  1.30797477]\n",
      " [ 2.16587724 -1.18488758 -0.10984859 -1.68005165 -1.83987922 -2.12882331\n",
      "   2.02346358  3.91787856 -2.84330546  3.37591627]\n",
      " [ 3.67978862  0.11561516 -0.95590396 -0.96178733 -2.70141314 -2.68387533\n",
      "   2.61657503  4.36825322 -4.37784784  2.96305421]\n",
      " [-2.04161517  3.3912391  -2.71477228  3.12797952  2.88364006  1.36479045\n",
      "  -1.03368051 -1.14695733 -1.56648233 -2.64492767]\n",
      " [ 1.22864544  6.83479426 -5.64908897  5.04275665  1.40363563  1.5795717\n",
      "   0.91963763 -0.57306558 -7.86848233 -1.99035077]\n",
      " [ 1.20349344  7.85040438 -6.03526507  5.16701698  1.5381277   1.8233069\n",
      "   0.8304446  -1.28907585 -7.57050265 -2.44087004]\n",
      " [-0.94491608  3.65958391 -3.05573098  3.71373762  1.41892171  1.01431254\n",
      "  -0.26798654 -0.69243982 -2.69674964 -2.13582794]\n",
      " [ 0.98289512  4.24669023 -4.76513526  2.99658255  0.09539241  0.16605428\n",
      "   1.29260368  0.72474378 -5.08263873  0.10642859]\n",
      " [ 0.72155304  1.86355341 -2.32890312  1.00085372 -0.03445072 -0.87789247\n",
      "   1.23447513  2.08499291 -4.15846185  1.37354938]]\n",
      "2.66632500492\n",
      "1.0\n"
     ]
    }
   ],
   "source": [
    "A=np.random.rand(10,10)\n",
    "print(\"Condition number =\", np.linalg.cond(A))\n",
    "u,s,v=np.linalg.svd(A)\n",
    "Ainv=np.dot(v,np.dot(np.diag(s**-1),u.transpose()))\n",
    "#Ainv = np.linalg.pinv(A)\n",
    "\n",
    "UniMat= np.dot(A, Ainv)\n",
    "\n",
    "print(UniMat)\n",
    "\n",
    "print(np.trace(UniMat))\n",
    "print(np.linalg.det(UniMat))"
   ]
  },
  {
   "cell_type": "markdown",
   "metadata": {},
   "source": [
    "### Sanity Check: Comparing Different Null Realizations"
   ]
  },
  {
   "cell_type": "markdown",
   "metadata": {},
   "source": [
    "# Read in a few null measurements\n",
    "XNull_0 = np.load(\"xcorr_rand0_zDeep_v0.npy\")\n",
    "XNull_1 = np.load(\"xcorr_rand1_zDeep_v0.npy\")\n",
    "XNull_2 = np.load(\"xcorr_rand2_zDeep_v0.npy\")\n",
    "\n",
    "Cov = Covar_mosdef\n",
    "DiagCov = Cov.diagonal()\n",
    "InvCov = np.linalg.pinv(Cov)\n",
    "\n",
    "Delta0 = XNull_0.reshape(XNull_0.size) - XNull_mosdef.reshape(XNull_zD.size)\n",
    "Delta1 = XNull_1.reshape(XNull_1.size) - XNull_mosdef.reshape(XNull_zD.size)\n",
    "Delta2 = XNull_2.reshape(XNull_2.size) - XNull_mosdef.reshape(XNull_zD.size)\n",
    "\n",
    "print(Delta0.shape, DiagCov.shape)\n",
    "\n",
    "ChiSqDiag0 = np.reshape(Delta0**2/DiagCov, XNull_0.shape)\n",
    "ChiSqDiag1 = np.reshape(Delta1**2/DiagCov, XNull_0.shape)\n",
    "ChiSqDiag2 = np.reshape(Delta2**2/DiagCov, XNull_0.shape)\n",
    "\n",
    "print(\"-ln(L)_0 = \", 0.5 * np.dot(Delta0.transpose(), np.dot(InvCov, Delta0)))\n",
    "print(\"-ln(L)_1 = \", 0.5 * np.dot(Delta1.transpose(), np.dot(InvCov, Delta1)))\n",
    "print(\"-ln(L)_2 = \", 0.5 * np.dot(Delta2.transpose(), np.dot(InvCov, Delta2)))\n",
    "\n",
    "X, Y = np.meshgrid(SigEdges, PiEdges)\n",
    "\n",
    "SigMax = 35.\n",
    "PiMin = -50.\n",
    "PiMax = 50.\n",
    "\n",
    "fig, (ax1, ax2, ax3)= plt.subplots(1,3, figsize=(14,7))\n",
    "\n",
    "ax1.pcolormesh(X, Y, ChiSqDiag0.transpose(), cmap='gray_r' )\n",
    "ax1.set_aspect('equal')\n",
    "ax1.set_xlim(np.min(X), SigMax)\n",
    "ax1.set_ylim(PiMin, PiMax)\n",
    "ax1.set_xlabel(r'$\\sigma\\; (\\mathrm{cMpc})$')\n",
    "ax1.set_ylabel(r'$\\pi\\; (\\mathrm{cMpc})$')\n",
    "#ax1.set_title(\"MOSDEF: %i galaxies\" % len(gal_mosdef))\n",
    "\n",
    "ax2.pcolormesh(X, Y, ChiSqDiag1.transpose(), cmap='gray_r')\n",
    "ax2.set_aspect('equal')\n",
    "ax2.set_xlim(np.min(X), SigMax)\n",
    "ax2.set_ylim(PiMin, PiMax)\n",
    "ax2.set_xlabel(r'$\\sigma\\; (\\mathrm{cMpc})$')\n",
    "ax2.set_ylabel(r'$\\pi\\; (\\mathrm{cMpc})$')\n",
    "#ax2.set_title(\"zCOSMOS: %i galaxies\" % len(gal_zD))\n",
    "\n",
    "pcm=ax3.pcolormesh(X, Y, ChiSqDiag2.transpose(), cmap='gray_r')\n",
    "ax3.set_aspect('equal')\n",
    "ax3.set_xlim(np.min(X), SigMax)\n",
    "ax3.set_ylim(PiMin, PiMax)\n",
    "ax3.set_xlabel(r'$\\sigma\\; (\\mathrm{cMpc})$')\n",
    "ax3.set_ylabel(r'$\\pi\\; (\\mathrm{cMpc})$')\n",
    "#ax3.set_title(\"3DHST: %i galaxies\" % len(gal_3d))\n",
    "\n",
    "fig.colorbar(pcm, ax=ax3)\n",
    "\n",
    "#fig.subplots_adjust(wspace=-0.1)\n",
    "\n",
    "plt.show()"
   ]
  },
  {
   "cell_type": "markdown",
   "metadata": {},
   "source": [
    "The individual null samples are inconsistent with the mean null, when using the covariance matrix. But the latter is determined from the data, so perhaps this makes sense? In other words, the actual data covariances are smaller than would be present from a null sample of the same size?"
   ]
  },
  {
   "cell_type": "code",
   "execution_count": null,
   "metadata": {},
   "outputs": [],
   "source": []
  }
 ],
 "metadata": {
  "kernelspec": {
   "display_name": "Python 3",
   "language": "python",
   "name": "python3"
  },
  "language_info": {
   "codemirror_mode": {
    "name": "ipython",
    "version": 3
   },
   "file_extension": ".py",
   "mimetype": "text/x-python",
   "name": "python",
   "nbconvert_exporter": "python",
   "pygments_lexer": "ipython3",
   "version": "3.6.8"
  }
 },
 "nbformat": 4,
 "nbformat_minor": 2
}
