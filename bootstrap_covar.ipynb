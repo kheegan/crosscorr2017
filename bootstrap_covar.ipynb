{
 "cells": [
  {
   "cell_type": "markdown",
   "metadata": {},
   "source": [
    "# Estimation of bootstrap covariances for galaxy-forest cross-correlation\n",
    "We randomly resample (with replacement) both the galaxy positios and Ly-a forest pixels.\n",
    "\n",
    "### Read in galaxy positions and forest pixels."
   ]
  },
  {
   "cell_type": "code",
   "execution_count": 16,
   "metadata": {},
   "outputs": [
    {
     "name": "stdout",
     "output_type": "stream",
     "text": [
      "Read in 89974 Ly-a forest pixels\n",
      "Read in 226 3D-HST galaxies, 491 zCOSMOS-Deep galaxies, 121 MOSDEF galaxies,428 VUDS galaxies, 101 CLAMATO galaxies\n"
     ]
    }
   ],
   "source": [
    "import numpy as np\n",
    "import copy\n",
    "import time as time\n",
    "import lyafxcorr_kg as xcorr\n",
    "\n",
    "# Set up matplotlib and use a nicer set of plot parameters\n",
    "%config InlineBackend.rc = {}\n",
    "import matplotlib as mpl\n",
    "mpl.rc('mathtext',fontset='stixsans')\n",
    "mpl.rc('figure', facecolor=\"white\")\n",
    "#matplotlib.rc_file(\"../../templates/matplotlibrc\")\n",
    "import matplotlib.pyplot as plt\n",
    "#import matplotlib.colors as colors\n",
    "%matplotlib inline\n",
    "\n",
    "from astropy.cosmology import FlatLambdaCDM\n",
    "from astropy.io import fits\n",
    "from astropy.io import ascii\n",
    "from astropy.table import Table\n",
    "from astropy import units as u\n",
    "from astropy.coordinates import SkyCoord\n",
    "\n",
    "\n",
    "# Define cosmology\n",
    "cosmo = FlatLambdaCDM(H0=70, Om0=0.31)\n",
    "    \n",
    "# Read forest pixels    \n",
    "LyaPix = xcorr.lyapix(\"pixel_radecz.bin\",cosmo=cosmo)\n",
    "\n",
    "print(\"Read in %i Ly-a forest pixels\" % LyaPix.npix)\n",
    "npix = LyaPix.npix\n",
    "\n",
    "# Done with forest pixels. Now read galaxy positions\n",
    "galfil = '/Users/kheegan/lya/3d_recon/map2017/crosscorr/cat_galxcorr_cl2017.dat'\n",
    "gal = ascii.read(galfil)\n",
    "#print(gal.columns)\n",
    "\n",
    "gal_3d = gal[gal['source'] == '3DHST']\n",
    "gal_zD = gal[gal['source'] == 'zDEEP']\n",
    "gal_mosdef = gal[gal['source'] == 'MOSDEF']\n",
    "gal_vuds   = gal[gal['source']=='VUDS']\n",
    "gal_clamato=gal[gal['source']=='CLAMATO']\n",
    "\n",
    "print('Read in %i 3D-HST galaxies, %i zCOSMOS-Deep galaxies, %i MOSDEF galaxies,' \n",
    "      '%i VUDS galaxies, %i CLAMATO galaxies' % \n",
    "      (len(gal_3d), len(gal_zD), len(gal_mosdef), len(gal_vuds), len(gal_clamato)) )\n",
    "\n",
    "# Convert to 3D Sky positions\n",
    "Coord_3d     = SkyCoord(ra=gal_3d['ra'] * u.degree, dec=gal_3d['dec'] * u.degree,\n",
    "                  distance=cosmo.comoving_distance(gal_3d['zspec']))\n",
    "Coord_zD     = SkyCoord(ra=gal_zD['ra'] * u.degree, dec=gal_zD['dec'] * u.degree,\n",
    "                   distance=cosmo.comoving_distance(gal_zD['zspec']))\n",
    "Coord_vuds     = SkyCoord(ra=gal_vuds['ra'] * u.degree, dec=gal_vuds['dec'] * u.degree,\n",
    "                   distance=cosmo.comoving_distance(gal_vuds['zspec']))\n",
    "Coord_mosdef = SkyCoord(ra=gal_mosdef['ra'] * u.degree, dec=gal_mosdef['dec'] * u.degree,\n",
    "                   distance=cosmo.comoving_distance(gal_mosdef['zspec']))\n",
    "Coord_clamato = SkyCoord(ra=gal_clamato['ra'] * u.degree, dec=gal_clamato['dec'] * u.degree,\n",
    "                   distance=cosmo.comoving_distance(gal_clamato['zspec']))\n",
    "\n",
    "# Read in bin edges\n",
    "PiBin_fil = 'bins16_pi_0-40hMpc.txt'\n",
    "SigBin_fil = 'bins10_sigma_0-30hMpc.txt'\n",
    "\n",
    "PiBins0 = ascii.read(PiBin_fil)\n",
    "SigBins0 = ascii.read(SigBin_fil)\n",
    "\n",
    "PiEdges = PiBins0['pi_edges'].data\n",
    "SigEdges = SigBins0['sigma_edges'].data\n",
    "\n",
    "# Convert bin boundaries from Mpc/h to Mpc\n",
    "PiEdges  = PiEdges/(len(PiEdges)*[cosmo.h])\n",
    "SigEdges = SigEdges/(len(SigEdges)*[cosmo.h])\n",
    "PiBound = (min(PiEdges), max(PiEdges) )"
   ]
  },
  {
   "cell_type": "markdown",
   "metadata": {},
   "source": [
    "### Bootstrap MOSDEF Sample\n",
    "We perform the bootstrap and plot a few resampled cross-correlations as a sanity check."
   ]
  },
  {
   "cell_type": "code",
   "execution_count": 17,
   "metadata": {},
   "outputs": [
    {
     "name": "stdout",
     "output_type": "stream",
     "text": [
      "Iteration # 0\n",
      "Iteration # 5\n",
      "Iteration # 10\n",
      "Iteration # 15\n",
      "Iteration # 20\n",
      "Iteration # 25\n",
      "Iteration # 30\n",
      "Iteration # 35\n",
      "Iteration # 40\n",
      "Iteration # 45\n",
      "Iteration # 50\n",
      "Iteration # 55\n",
      "Iteration # 60\n",
      "Iteration # 65\n",
      "Iteration # 70\n",
      "Iteration # 75\n",
      "Iteration # 80\n",
      "Iteration # 85\n",
      "Iteration # 90\n",
      "Iteration # 95\n",
      "Iteration # 100\n",
      "Iteration # 105\n",
      "Iteration # 110\n",
      "Iteration # 115\n",
      "Iteration # 120\n",
      "Iteration # 125\n",
      "Iteration # 130\n",
      "Iteration # 135\n",
      "Iteration # 140\n",
      "Iteration # 145\n",
      "Iteration # 150\n",
      "Iteration # 155\n",
      "Iteration # 160\n",
      "Iteration # 165\n",
      "Iteration # 170\n",
      "Iteration # 175\n",
      "Iteration # 180\n",
      "Iteration # 185\n",
      "Iteration # 190\n",
      "Iteration # 195\n"
     ]
    }
   ],
   "source": [
    "nsamp=200\n",
    "np.random.seed(seed=11234565)\n",
    "\n",
    "GalCoords = Coord_mosdef\n",
    "ngal = len(GalCoords)\n",
    "\n",
    "# Initialize output array to store all the bootstrap samples\n",
    "XCorrSamples_mosdef = np.empty([len(SigEdges)-1, len(PiEdges)-1, nsamp])\n",
    "\n",
    "# This is the loop over the desired resamples\n",
    "for ii in range(0,nsamp):\n",
    "    if (ii % 5) == 0:\n",
    "        print(\"Iteration #\", ii)\n",
    "    # Make a copy of the pixels and resample\n",
    "    LyaPixTmp = copy.deepcopy(LyaPix)\n",
    "    LyaPixTmp = LyaPixTmp.resample()\n",
    "    # Resample galaxy positions\n",
    "    GalCoordTmp = GalCoords[np.random.choice(ngal,ngal,replace=True)]\n",
    "    XCorrTmp, _ = xcorr.xcorr_gal_lya(GalCoordTmp, LyaPixTmp,SigEdges, PiEdges,\n",
    "                                      cosmo=cosmo,verbose=0)\n",
    "    XCorrSamples_mosdef[:,:,ii] = XCorrTmp"
   ]
  },
  {
   "cell_type": "code",
   "execution_count": 18,
   "metadata": {},
   "outputs": [
    {
     "data": {
      "image/png": "[encoded data removed]",
      "text/plain": [
       "<matplotlib.figure.Figure at 0x1128b1048>"
      ]
     },
     "metadata": {},
     "output_type": "display_data"
    }
   ],
   "source": [
    "XCorr1 = np.transpose(XCorrSamples_mosdef[:,:,0])\n",
    "XCorr2 = np.transpose(XCorrSamples_mosdef[:,:,1])\n",
    "XCorr3 = np.transpose(XCorrSamples_mosdef[:,:,2])\n",
    "\n",
    "X, Y = np.meshgrid(SigEdges, PiEdges)\n",
    "\n",
    "SigMax = 25.\n",
    "PiMin = -30.\n",
    "PiMax = 30.\n",
    "\n",
    "fig, (ax1, ax2, ax3)= plt.subplots(1,3, figsize=(14,7))\n",
    "\n",
    "fig.suptitle(\"BootStrap Resamples of MOSDEF Galaxies\", fontsize=20)\n",
    "\n",
    "ax1.pcolormesh(X, Y, XCorr1,cmap='jet_r',vmin=-0.2, vmax=0.1 )\n",
    "ax1.set_aspect('equal')\n",
    "ax1.set_xlim(np.min(X), SigMax)\n",
    "ax1.set_ylim(PiMin, PiMax)\n",
    "ax1.set_xlabel(r'$\\sigma\\; (\\mathrm{cMpc})$')\n",
    "ax1.set_ylabel(r'$\\pi\\; (\\mathrm{cMpc})$')\n",
    "\n",
    "ax2.pcolormesh(X, Y, XCorr2,cmap='jet_r',vmin=-0.2, vmax=0.1 )\n",
    "ax2.set_aspect('equal')\n",
    "ax2.set_xlim(np.min(X), SigMax)\n",
    "ax2.set_ylim(PiMin, PiMax)\n",
    "ax2.set_xlabel(r'$\\sigma\\; (\\mathrm{cMpc})$')\n",
    "ax2.set_ylabel(r'$\\pi\\; (\\mathrm{cMpc})$')\n",
    "\n",
    "pcm=ax3.pcolormesh(X, Y, XCorr3,cmap='jet_r',vmin=-0.2, vmax=0.1 )\n",
    "ax3.set_aspect('equal')\n",
    "ax3.set_xlim(np.min(X), SigMax)\n",
    "ax3.set_ylim(PiMin, PiMax)\n",
    "ax3.set_xlabel(r'$\\sigma\\; (\\mathrm{cMpc})$')\n",
    "ax3.set_ylabel(r'$\\pi\\; (\\mathrm{cMpc})$')\n",
    "\n",
    "fig.colorbar(pcm, ax=ax3)\n",
    "\n",
    "#fig.subplots_adjust(wspace=-0.1)\n",
    "\n",
    "plt.show()"
   ]
  },
  {
   "cell_type": "markdown",
   "metadata": {},
   "source": [
    "Compute the covariance matrix. We compare the diagonal terms with the variance as a sanity check. "
   ]
  },
  {
   "cell_type": "code",
   "execution_count": 15,
   "metadata": {},
   "outputs": [
    {
     "name": "stdout",
     "output_type": "stream",
     "text": [
      "We have recovered original shape:  True\n"
     ]
    },
    {
     "data": {
      "image/png": "[encoded data removed]",
      "text/plain": [
       "<matplotlib.figure.Figure at 0x112afbda0>"
      ]
     },
     "metadata": {},
     "output_type": "display_data"
    }
   ],
   "source": [
    "# First, reshape the bootstrap samples so that it has dimensions (nbin, nsamp)\n",
    "XBootReshaped = XCorrSamples_mosdef.reshape(-1, XCorrSamples_mosdef.shape[-1])\n",
    "\n",
    "# Quick test that we can recover the original shape\n",
    "XBootBack = XBootReshaped.reshape(XCorrSamples_mosdef.shape)\n",
    "print(\"We have recovered original shape: \", \n",
    "      np.all(np.isclose(XBootBack, XCorrSamples_mosdef,rtol=1.e-3)))\n",
    "\n",
    "Covar_mosdef = np.cov(XBootReshaped)\n",
    "CovDiag_mosdef = Covar_mosdef.diagonal()\n",
    "\n",
    "# This are the diagonal covariances\n",
    "VarArr= np.var(XCorrSamples_mosdef, axis=2)\n",
    "\n",
    "NVec = np.arange(VarArr.size)\n",
    "\n",
    "\n",
    "fig, ax = plt.subplots()\n",
    "ax.plot(NVec, VarArr.reshape(VarArr.size))\n",
    "ax.plot(NVec, CovDiag_mosdef, color='r')\n",
    "ax.set_ylabel('Variance')\n",
    "ax.set_xlabel('Bin')\n",
    "\n",
    "plt.show()\n",
    "\n",
    "np.save(\"covar_mosdef_v0.npy\", Covar_mosdef)\n",
    "np.save(\"bootsamp_mosdef_v0.npy\", XCorrSamples_mosdef)\n"
   ]
  },
  {
   "cell_type": "markdown",
   "metadata": {},
   "source": [
    "### Bootstrap VUDS Sample"
   ]
  },
  {
   "cell_type": "code",
   "execution_count": 2,
   "metadata": {},
   "outputs": [
    {
     "name": "stdout",
     "output_type": "stream",
     "text": [
      "Iteration # 0\n",
      "Iteration # 5\n",
      "Iteration # 10\n",
      "Iteration # 15\n",
      "Iteration # 20\n",
      "Iteration # 25\n",
      "Iteration # 30\n",
      "Iteration # 35\n",
      "Iteration # 40\n",
      "Iteration # 45\n",
      "Iteration # 50\n",
      "Iteration # 55\n",
      "Iteration # 60\n",
      "Iteration # 65\n",
      "Iteration # 70\n",
      "Iteration # 75\n",
      "Iteration # 80\n",
      "Iteration # 85\n",
      "Iteration # 90\n",
      "Iteration # 95\n",
      "Iteration # 100\n",
      "Iteration # 105\n",
      "Iteration # 110\n",
      "Iteration # 115\n",
      "Iteration # 120\n",
      "Iteration # 125\n",
      "Iteration # 130\n",
      "Iteration # 135\n",
      "Iteration # 140\n",
      "Iteration # 145\n",
      "Iteration # 150\n",
      "Iteration # 155\n",
      "Iteration # 160\n",
      "Iteration # 165\n",
      "Iteration # 170\n",
      "Iteration # 175\n",
      "Iteration # 180\n",
      "Iteration # 185\n",
      "Iteration # 190\n",
      "Iteration # 195\n"
     ]
    }
   ],
   "source": [
    "nsamp=200\n",
    "np.random.seed(seed=1223456)\n",
    "\n",
    "GalCoords = Coord_vuds\n",
    "ngal = len(GalCoords)\n",
    "\n",
    "# Initialize output array to store all the bootstrap samples\n",
    "XCorrSamples_vuds = np.empty([len(SigEdges)-1, len(PiEdges)-1, nsamp])\n",
    "\n",
    "# This is the loop over the desired resamples\n",
    "for ii in range(0,nsamp):\n",
    "    if (ii % 5) == 0:\n",
    "        print(\"Iteration #\", ii)\n",
    "    # Make a copy of the pixels and resample\n",
    "    LyaPixTmp = copy.deepcopy(LyaPix)\n",
    "    LyaPixTmp = LyaPixTmp.resample()\n",
    "    # Resample galaxy positions\n",
    "    GalCoordTmp = GalCoords[np.random.choice(ngal,ngal,replace=True)]\n",
    "    XCorrTmp, _ = xcorr.xcorr_gal_lya(GalCoordTmp, LyaPixTmp,SigEdges, PiEdges,\n",
    "                                      cosmo=cosmo,verbose=0)\n",
    "    XCorrSamples_vuds[:,:,ii] = XCorrTmp"
   ]
  },
  {
   "cell_type": "code",
   "execution_count": 3,
   "metadata": {
    "collapsed": true
   },
   "outputs": [],
   "source": [
    "# First, reshape the bootstrap samples so that it has dimensions (nbin, nsamp)\n",
    "XBootReshaped = XCorrSamples_vuds.reshape(-1, XCorrSamples_vuds.shape[-1])\n",
    "Covar_vuds = np.cov(XBootReshaped)\n",
    "\n",
    "np.save(\"covar_vuds_v0.npy\", Covar_vuds)\n",
    "np.save(\"bootsamp_vuds_v0.npy\", XCorrSamples_vuds)"
   ]
  },
  {
   "cell_type": "markdown",
   "metadata": {},
   "source": [
    "### Bootstrap zCOSMOS-Deep Sample"
   ]
  },
  {
   "cell_type": "code",
   "execution_count": 4,
   "metadata": {},
   "outputs": [
    {
     "name": "stdout",
     "output_type": "stream",
     "text": [
      "Iteration # 0\n",
      "Iteration # 5\n",
      "Iteration # 10\n",
      "Iteration # 15\n",
      "Iteration # 20\n",
      "Iteration # 25\n",
      "Iteration # 30\n",
      "Iteration # 35\n",
      "Iteration # 40\n",
      "Iteration # 45\n",
      "Iteration # 50\n",
      "Iteration # 55\n",
      "Iteration # 60\n",
      "Iteration # 65\n",
      "Iteration # 70\n",
      "Iteration # 75\n",
      "Iteration # 80\n",
      "Iteration # 85\n",
      "Iteration # 90\n",
      "Iteration # 95\n",
      "Iteration # 100\n",
      "Iteration # 105\n",
      "Iteration # 110\n",
      "Iteration # 115\n",
      "Iteration # 120\n",
      "Iteration # 125\n",
      "Iteration # 130\n",
      "Iteration # 135\n",
      "Iteration # 140\n",
      "Iteration # 145\n",
      "Iteration # 150\n",
      "Iteration # 155\n",
      "Iteration # 160\n",
      "Iteration # 165\n",
      "Iteration # 170\n",
      "Iteration # 175\n",
      "Iteration # 180\n",
      "Iteration # 185\n",
      "Iteration # 190\n",
      "Iteration # 195\n"
     ]
    }
   ],
   "source": [
    "nsamp=200\n",
    "np.random.seed(seed=1423456)\n",
    "\n",
    "GalCoords = Coord_zD\n",
    "ngal = len(GalCoords)\n",
    "\n",
    "# Initialize output array to store all the bootstrap samples\n",
    "XCorrSamples_zD = np.empty([len(SigEdges)-1, len(PiEdges)-1, nsamp])\n",
    "\n",
    "# This is the loop over the desired resamples\n",
    "for ii in range(0,nsamp):\n",
    "    if (ii % 5) == 0:\n",
    "        print(\"Iteration #\", ii)\n",
    "    # Make a copy of the pixels and resample\n",
    "    LyaPixTmp = copy.deepcopy(LyaPix)\n",
    "    LyaPixTmp = LyaPixTmp.resample()\n",
    "    # Resample galaxy positions\n",
    "    GalCoordTmp = GalCoords[np.random.choice(ngal,ngal,replace=True)]\n",
    "    XCorrTmp, _ = xcorr.xcorr_gal_lya(GalCoordTmp, LyaPixTmp,SigEdges, PiEdges,\n",
    "                                      cosmo=cosmo,verbose=0)\n",
    "    XCorrSamples_zD[:,:,ii] = XCorrTmp"
   ]
  },
  {
   "cell_type": "code",
   "execution_count": 5,
   "metadata": {
    "collapsed": true
   },
   "outputs": [],
   "source": [
    "# First, reshape the bootstrap samples so that it has dimensions (nbin, nsamp)\n",
    "XBootReshaped = XCorrSamples_zD.reshape(-1, XCorrSamples_zD.shape[-1])\n",
    "Covar_zD = np.cov(XBootReshaped)\n",
    "\n",
    "np.save(\"covar_zDeep_v0.npy\", Covar_zD)\n",
    "np.save(\"bootsamp_zDeep_v0.npy\", XCorrSamples_zD)\n"
   ]
  },
  {
   "cell_type": "markdown",
   "metadata": {},
   "source": [
    "### Bootstrap CLAMATO sample"
   ]
  },
  {
   "cell_type": "code",
   "execution_count": 6,
   "metadata": {},
   "outputs": [
    {
     "name": "stdout",
     "output_type": "stream",
     "text": [
      "Iteration # 0\n",
      "Iteration # 5\n",
      "Iteration # 10\n",
      "Iteration # 15\n",
      "Iteration # 20\n",
      "Iteration # 25\n",
      "Iteration # 30\n",
      "Iteration # 35\n",
      "Iteration # 40\n",
      "Iteration # 45\n",
      "Iteration # 50\n",
      "Iteration # 55\n",
      "Iteration # 60\n",
      "Iteration # 65\n",
      "Iteration # 70\n",
      "Iteration # 75\n",
      "Iteration # 80\n",
      "Iteration # 85\n",
      "Iteration # 90\n",
      "Iteration # 95\n",
      "Iteration # 100\n",
      "Iteration # 105\n",
      "Iteration # 110\n",
      "Iteration # 115\n",
      "Iteration # 120\n",
      "Iteration # 125\n",
      "Iteration # 130\n",
      "Iteration # 135\n",
      "Iteration # 140\n",
      "Iteration # 145\n",
      "Iteration # 150\n",
      "Iteration # 155\n",
      "Iteration # 160\n",
      "Iteration # 165\n",
      "Iteration # 170\n",
      "Iteration # 175\n",
      "Iteration # 180\n",
      "Iteration # 185\n",
      "Iteration # 190\n",
      "Iteration # 195\n"
     ]
    }
   ],
   "source": [
    "nsamp=200\n",
    "np.random.seed(seed=14234567)\n",
    "\n",
    "GalCoords = Coord_clamato\n",
    "ngal = len(GalCoords)\n",
    "\n",
    "# Initialize output array to store all the bootstrap samples\n",
    "XCorrSamples_clamato = np.empty([len(SigEdges)-1, len(PiEdges)-1, nsamp])\n",
    "\n",
    "# This is the loop over the desired resamples\n",
    "for ii in range(0,nsamp):\n",
    "    if (ii % 5) == 0:\n",
    "        print(\"Iteration #\", ii)\n",
    "    # Make a copy of the pixels and resample\n",
    "    LyaPixTmp = copy.deepcopy(LyaPix)\n",
    "    LyaPixTmp = LyaPixTmp.resample()\n",
    "    # Resample galaxy positions\n",
    "    GalCoordTmp = GalCoords[np.random.choice(ngal,ngal,replace=True)]\n",
    "    XCorrTmp, _ = xcorr.xcorr_gal_lya(GalCoordTmp, LyaPixTmp,SigEdges, PiEdges,\n",
    "                                      cosmo=cosmo,verbose=0)\n",
    "    XCorrSamples_clamato[:,:,ii] = XCorrTmp\n",
    "    \n",
    "# First, reshape the bootstrap samples so that it has dimensions (nbin, nsamp)\n",
    "XBootReshaped = XCorrSamples_clamato.reshape(-1, XCorrSamples_clamato.shape[-1])\n",
    "Covar_clamato = np.cov(XBootReshaped)\n",
    "\n",
    "np.save(\"covar_clamato_v0.npy\", Covar_clamato)\n",
    "np.save(\"bootsamp_clamato_v0.npy\",XCorrSamples_clamato)"
   ]
  },
  {
   "cell_type": "markdown",
   "metadata": {},
   "source": [
    "### Bootstrap 3D-HST Sample"
   ]
  },
  {
   "cell_type": "code",
   "execution_count": 7,
   "metadata": {},
   "outputs": [
    {
     "name": "stdout",
     "output_type": "stream",
     "text": [
      "Iteration # 0\n",
      "Iteration # 5\n",
      "Iteration # 10\n",
      "Iteration # 15\n",
      "Iteration # 20\n",
      "Iteration # 25\n",
      "Iteration # 30\n",
      "Iteration # 35\n",
      "Iteration # 40\n",
      "Iteration # 45\n",
      "Iteration # 50\n",
      "Iteration # 55\n",
      "Iteration # 60\n",
      "Iteration # 65\n",
      "Iteration # 70\n",
      "Iteration # 75\n",
      "Iteration # 80\n",
      "Iteration # 85\n",
      "Iteration # 90\n",
      "Iteration # 95\n",
      "Iteration # 100\n",
      "Iteration # 105\n",
      "Iteration # 110\n",
      "Iteration # 115\n",
      "Iteration # 120\n",
      "Iteration # 125\n",
      "Iteration # 130\n",
      "Iteration # 135\n",
      "Iteration # 140\n",
      "Iteration # 145\n",
      "Iteration # 150\n",
      "Iteration # 155\n",
      "Iteration # 160\n",
      "Iteration # 165\n",
      "Iteration # 170\n",
      "Iteration # 175\n",
      "Iteration # 180\n",
      "Iteration # 185\n",
      "Iteration # 190\n",
      "Iteration # 195\n"
     ]
    }
   ],
   "source": [
    "nsamp=200\n",
    "np.random.seed(seed=6123456)\n",
    "\n",
    "GalCoords = Coord_3d\n",
    "ngal = len(GalCoords)\n",
    "\n",
    "# Initialize output array to store all the bootstrap samples\n",
    "XCorrSamples_3d = np.empty([len(SigEdges)-1, len(PiEdges)-1, nsamp])\n",
    "\n",
    "# This is the loop over the desired resamples\n",
    "for ii in range(0,nsamp):\n",
    "    if (ii % 5) == 0:\n",
    "        print(\"Iteration #\", ii)\n",
    "    # Make a copy of the pixels and resample\n",
    "    LyaPixTmp = copy.deepcopy(LyaPix)\n",
    "    LyaPixTmp = LyaPixTmp.resample()\n",
    "    # Resample galaxy positions\n",
    "    GalCoordTmp = GalCoords[np.random.choice(ngal,ngal,replace=True)]\n",
    "    XCorrTmp, _ = xcorr.xcorr_gal_lya(GalCoordTmp, LyaPixTmp,SigEdges, PiEdges,\n",
    "                                      cosmo=cosmo,verbose=0)\n",
    "    XCorrSamples_3d[:,:,ii] = XCorrTmp"
   ]
  },
  {
   "cell_type": "code",
   "execution_count": 8,
   "metadata": {
    "collapsed": true
   },
   "outputs": [],
   "source": [
    "# First, reshape the bootstrap samples so that it has dimensions (nbin, nsamp)\n",
    "XBootReshaped = XCorrSamples_3d.reshape(-1, XCorrSamples_3d.shape[-1])\n",
    "Covar_3d = np.cov(XBootReshaped)\n",
    "\n",
    "np.save(\"covar_3dhst_v0.npy\", Covar_3d)\n",
    "np.save(\"bootsamp_3dhst_v0.npy\", XCorrSamples_3d)"
   ]
  }
 ],
 "metadata": {
  "kernelspec": {
   "display_name": "Python 3",
   "language": "python",
   "name": "python3"
  },
  "language_info": {
   "codemirror_mode": {
    "name": "ipython",
    "version": 3
   },
   "file_extension": ".py",
   "mimetype": "text/x-python",
   "name": "python",
   "nbconvert_exporter": "python",
   "pygments_lexer": "ipython3",
   "version": "3.5.4"
  }
 },
 "nbformat": 4,
 "nbformat_minor": 1
}
